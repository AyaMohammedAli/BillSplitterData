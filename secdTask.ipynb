{
 "cells": [
  {
   "cell_type": "markdown",
   "id": "a2de7553",
   "metadata": {},
   "source": [
    "# Bill Splitter\n",
    "Eating With Your Friends is a beautiful Thing going and playing with them give you a power of the day and make you happy,but the bill is the big problem😂\n",
    "So why not make small app that take one of your Friends randomly and make he or she the victim of the bill wh not\n",
    "Let's play🤝"
   ]
  },
  {
   "cell_type": "code",
   "execution_count": 4,
   "id": "9223901e",
   "metadata": {
    "scrolled": true
   },
   "outputs": [
    {
     "name": "stdout",
     "output_type": "stream",
     "text": [
      "Enter the number of friends joining (including you):\n",
      "2\n",
      "Enter the name of every friend (including you), each on a new line:\n",
      "aya\n",
      "waledd\n",
      "\n",
      "Enter the total bill value:400\n",
      "\n",
      "Do you want to use the \"Who is lucky?\" feature? Write Yes/No:\n",
      "No\n",
      "\n",
      "No one is going to be lucky\n",
      "{'aya': 200.0, 'waledd': 200.0}\n"
     ]
    }
   ],
   "source": [
    "import random \n",
    "class BillSplitter:\n",
    "    def __init__(self):\n",
    "        self.size = 0\n",
    "        self.freinds = {}\n",
    "    \n",
    "    def check_numberOfFreinds(self):\n",
    "        print(\"Enter the number of friends joining (including you):\")\n",
    "        self.size = int(input())\n",
    "        if self.size <=0:\n",
    "            print(\"No one is joining for the party\")\n",
    "        else:\n",
    "            print(\"Enter the name of every friend (including you), each on a new line:\")\n",
    "            for i in range(self.size):\n",
    "                x = input()\n",
    "                self.freinds[x]= 0\n",
    "            print()\n",
    "            billValue = int(input(\"Enter the total bill value:\"))\n",
    "            print()\n",
    "            luck = input('Do you want to use the \"Who is lucky?\" feature? Write Yes/No:\\n')\n",
    "            print()\n",
    "            if luck == \"Yes\":\n",
    "                name = random.choice(list(self.freinds.keys()))\n",
    "                print(name +\" is the lucky one!\")\n",
    "                for key, value in self.freinds.items():\n",
    "                    if key == name:\n",
    "                        self.freinds.update({key: 0})\n",
    "                        \n",
    "                everyOneValue = round(billValue/(self.size - 1), 2)\n",
    "                for key, value in self.freinds.items():\n",
    "                    if key != name:\n",
    "                        self.freinds.update({key: everyOneValue})\n",
    "                print(self.freinds)\n",
    "                print()\n",
    "            elif luck == \"No\":\n",
    "                print(\"No one is going to be lucky\")\n",
    "                everSplitteryOneValue = round(billValue/self.size,2)\n",
    "                for key, value in self.freinds.items():\n",
    "                    self.freinds.update({key: everSplitteryOneValue})\n",
    "                print(self.freinds)\n",
    "BillSplitter().check_numberOfFreinds()"
   ]
  },
  {
   "cell_type": "markdown",
   "id": "2391e629",
   "metadata": {},
   "source": [
    "let's discuss our app one part by one\n",
    "first import **random**\n",
    "\n",
    "we make a class **BillSplitter** which is the father of the project .\n",
    "To create a class we use the keyword **class** \n",
    "\n",
    "Every class should has the __init__() method \n",
    "\n",
    "The __init__() function is called automatically every time the class is being used to create a new object.\n",
    "The **Self** keyword refer to class variables and you can call it anything to need but self is the most.\n",
    "\n",
    "we make a dictionary **freinds** to add to it every name of friends \n",
    "\n",
    "\n"
   ]
  },
  {
   "cell_type": "code",
   "execution_count": null,
   "id": "1c4b4765",
   "metadata": {},
   "outputs": [],
   "source": []
  }
 ],
 "metadata": {
  "kernelspec": {
   "display_name": "Python 3 (ipykernel)",
   "language": "python",
   "name": "python3"
  },
  "language_info": {
   "codemirror_mode": {
    "name": "ipython",
    "version": 3
   },
   "file_extension": ".py",
   "mimetype": "text/x-python",
   "name": "python",
   "nbconvert_exporter": "python",
   "pygments_lexer": "ipython3",
   "version": "3.9.7"
  }
 },
 "nbformat": 4,
 "nbformat_minor": 5
}
